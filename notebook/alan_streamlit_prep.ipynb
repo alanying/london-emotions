{
 "cells": [
  {
   "cell_type": "markdown",
   "metadata": {},
   "source": [
    "# Library"
   ]
  },
  {
   "cell_type": "code",
   "execution_count": 1,
   "metadata": {},
   "outputs": [],
   "source": [
    "import pandas as pd"
   ]
  },
  {
   "cell_type": "markdown",
   "metadata": {},
   "source": [
    "# Dataframes setup"
   ]
  },
  {
   "cell_type": "markdown",
   "metadata": {},
   "source": [
    "## Load csv"
   ]
  },
  {
   "cell_type": "code",
   "execution_count": 4,
   "metadata": {},
   "outputs": [
    {
     "data": {
      "text/html": [
       "<div>\n",
       "<style scoped>\n",
       "    .dataframe tbody tr th:only-of-type {\n",
       "        vertical-align: middle;\n",
       "    }\n",
       "\n",
       "    .dataframe tbody tr th {\n",
       "        vertical-align: top;\n",
       "    }\n",
       "\n",
       "    .dataframe thead th {\n",
       "        text-align: right;\n",
       "    }\n",
       "</style>\n",
       "<table border=\"1\" class=\"dataframe\">\n",
       "  <thead>\n",
       "    <tr style=\"text-align: right;\">\n",
       "      <th></th>\n",
       "      <th>place_id</th>\n",
       "      <th>lat</th>\n",
       "      <th>lon</th>\n",
       "      <th>Text</th>\n",
       "      <th>clean_text</th>\n",
       "      <th>tokenized_text</th>\n",
       "      <th>emotion</th>\n",
       "    </tr>\n",
       "  </thead>\n",
       "  <tbody>\n",
       "    <tr>\n",
       "      <th>0</th>\n",
       "      <td>ChIJiwVttYym2EcRUdFHMteOfCo</td>\n",
       "      <td>51.563524</td>\n",
       "      <td>0.070761</td>\n",
       "      <td>Nice budget hotel....room is clean and well ma...</td>\n",
       "      <td>nice budget hotelroom is clean and well mainta...</td>\n",
       "      <td>['nice', 'budget', 'hotelroom', 'is', 'clean',...</td>\n",
       "      <td>worry</td>\n",
       "    </tr>\n",
       "    <tr>\n",
       "      <th>1</th>\n",
       "      <td>ChIJiwVttYym2EcRUdFHMteOfCo</td>\n",
       "      <td>51.563524</td>\n",
       "      <td>0.070761</td>\n",
       "      <td>This hotel is well managed with great staff on...</td>\n",
       "      <td>this hotel is well managed with great staff on...</td>\n",
       "      <td>['this', 'hotel', 'is', 'well', 'managed', 'wi...</td>\n",
       "      <td>worry</td>\n",
       "    </tr>\n",
       "    <tr>\n",
       "      <th>2</th>\n",
       "      <td>ChIJiwVttYym2EcRUdFHMteOfCo</td>\n",
       "      <td>51.563524</td>\n",
       "      <td>0.070761</td>\n",
       "      <td>10 our of 10 lovely service, clean and homely....</td>\n",
       "      <td>our of lovely service clean and homely with lo...</td>\n",
       "      <td>['our', 'of', 'lovely', 'service', 'clean', 'a...</td>\n",
       "      <td>joy</td>\n",
       "    </tr>\n",
       "    <tr>\n",
       "      <th>3</th>\n",
       "      <td>ChIJiwVttYym2EcRUdFHMteOfCo</td>\n",
       "      <td>51.563524</td>\n",
       "      <td>0.070761</td>\n",
       "      <td>Very Dirty, carpet never been cleaned, Curry s...</td>\n",
       "      <td>very dirty carpet never been cleaned curry sta...</td>\n",
       "      <td>['very', 'dirty', 'carpet', 'never', 'been', '...</td>\n",
       "      <td>joy</td>\n",
       "    </tr>\n",
       "    <tr>\n",
       "      <th>4</th>\n",
       "      <td>ChIJiwVttYym2EcRUdFHMteOfCo</td>\n",
       "      <td>51.563524</td>\n",
       "      <td>0.070761</td>\n",
       "      <td>Even 1 star is too much for this terrible hote...</td>\n",
       "      <td>even star is too much for this terrible hotel ...</td>\n",
       "      <td>['even', 'star', 'is', 'too', 'much', 'for', '...</td>\n",
       "      <td>joy</td>\n",
       "    </tr>\n",
       "  </tbody>\n",
       "</table>\n",
       "</div>"
      ],
      "text/plain": [
       "                      place_id        lat       lon  \\\n",
       "0  ChIJiwVttYym2EcRUdFHMteOfCo  51.563524  0.070761   \n",
       "1  ChIJiwVttYym2EcRUdFHMteOfCo  51.563524  0.070761   \n",
       "2  ChIJiwVttYym2EcRUdFHMteOfCo  51.563524  0.070761   \n",
       "3  ChIJiwVttYym2EcRUdFHMteOfCo  51.563524  0.070761   \n",
       "4  ChIJiwVttYym2EcRUdFHMteOfCo  51.563524  0.070761   \n",
       "\n",
       "                                                Text  \\\n",
       "0  Nice budget hotel....room is clean and well ma...   \n",
       "1  This hotel is well managed with great staff on...   \n",
       "2  10 our of 10 lovely service, clean and homely....   \n",
       "3  Very Dirty, carpet never been cleaned, Curry s...   \n",
       "4  Even 1 star is too much for this terrible hote...   \n",
       "\n",
       "                                          clean_text  \\\n",
       "0  nice budget hotelroom is clean and well mainta...   \n",
       "1  this hotel is well managed with great staff on...   \n",
       "2  our of lovely service clean and homely with lo...   \n",
       "3  very dirty carpet never been cleaned curry sta...   \n",
       "4  even star is too much for this terrible hotel ...   \n",
       "\n",
       "                                      tokenized_text emotion  \n",
       "0  ['nice', 'budget', 'hotelroom', 'is', 'clean',...   worry  \n",
       "1  ['this', 'hotel', 'is', 'well', 'managed', 'wi...   worry  \n",
       "2  ['our', 'of', 'lovely', 'service', 'clean', 'a...     joy  \n",
       "3  ['very', 'dirty', 'carpet', 'never', 'been', '...     joy  \n",
       "4  ['even', 'star', 'is', 'too', 'much', 'for', '...     joy  "
      ]
     },
     "execution_count": 4,
     "metadata": {},
     "output_type": "execute_result"
    }
   ],
   "source": [
    "data = pd.read_csv(\"../streamlit_prep/predicted_reviews.csv\")\n",
    "data.rename(columns={'lng':'lon'}, inplace=True)\n",
    "data.fillna('nan', inplace=True)\n",
    "data = data.drop(columns=['manually_added_emotion', 'joy, sad, worry, anger, neutral'])\n",
    "data.head()"
   ]
  },
  {
   "cell_type": "markdown",
   "metadata": {},
   "source": [
    "## Top 10 place_ids"
   ]
  },
  {
   "cell_type": "code",
   "execution_count": 12,
   "metadata": {},
   "outputs": [],
   "source": [
    "joy_df = data[data['emotion']=='joy']"
   ]
  },
  {
   "cell_type": "code",
   "execution_count": 13,
   "metadata": {},
   "outputs": [
    {
     "data": {
      "text/html": [
       "<div>\n",
       "<style scoped>\n",
       "    .dataframe tbody tr th:only-of-type {\n",
       "        vertical-align: middle;\n",
       "    }\n",
       "\n",
       "    .dataframe tbody tr th {\n",
       "        vertical-align: top;\n",
       "    }\n",
       "\n",
       "    .dataframe thead th {\n",
       "        text-align: right;\n",
       "    }\n",
       "</style>\n",
       "<table border=\"1\" class=\"dataframe\">\n",
       "  <thead>\n",
       "    <tr style=\"text-align: right;\">\n",
       "      <th></th>\n",
       "      <th>place_id</th>\n",
       "      <th>lat</th>\n",
       "      <th>lon</th>\n",
       "      <th>Text</th>\n",
       "      <th>clean_text</th>\n",
       "      <th>tokenized_text</th>\n",
       "      <th>emotion</th>\n",
       "    </tr>\n",
       "  </thead>\n",
       "  <tbody>\n",
       "    <tr>\n",
       "      <th>2</th>\n",
       "      <td>ChIJiwVttYym2EcRUdFHMteOfCo</td>\n",
       "      <td>51.563524</td>\n",
       "      <td>0.070761</td>\n",
       "      <td>10 our of 10 lovely service, clean and homely....</td>\n",
       "      <td>our of lovely service clean and homely with lo...</td>\n",
       "      <td>['our', 'of', 'lovely', 'service', 'clean', 'a...</td>\n",
       "      <td>joy</td>\n",
       "    </tr>\n",
       "    <tr>\n",
       "      <th>3</th>\n",
       "      <td>ChIJiwVttYym2EcRUdFHMteOfCo</td>\n",
       "      <td>51.563524</td>\n",
       "      <td>0.070761</td>\n",
       "      <td>Very Dirty, carpet never been cleaned, Curry s...</td>\n",
       "      <td>very dirty carpet never been cleaned curry sta...</td>\n",
       "      <td>['very', 'dirty', 'carpet', 'never', 'been', '...</td>\n",
       "      <td>joy</td>\n",
       "    </tr>\n",
       "    <tr>\n",
       "      <th>4</th>\n",
       "      <td>ChIJiwVttYym2EcRUdFHMteOfCo</td>\n",
       "      <td>51.563524</td>\n",
       "      <td>0.070761</td>\n",
       "      <td>Even 1 star is too much for this terrible hote...</td>\n",
       "      <td>even star is too much for this terrible hotel ...</td>\n",
       "      <td>['even', 'star', 'is', 'too', 'much', 'for', '...</td>\n",
       "      <td>joy</td>\n",
       "    </tr>\n",
       "    <tr>\n",
       "      <th>5</th>\n",
       "      <td>ChIJM6qXlrWk2EcRKcE2DZNpaXE</td>\n",
       "      <td>51.577553</td>\n",
       "      <td>0.186761</td>\n",
       "      <td>I meet with friends this nice place quite ofte...</td>\n",
       "      <td>i meet with friend this nice place quite often...</td>\n",
       "      <td>['meet', 'with', 'friend', 'this', 'nice', 'pl...</td>\n",
       "      <td>joy</td>\n",
       "    </tr>\n",
       "    <tr>\n",
       "      <th>7</th>\n",
       "      <td>ChIJM6qXlrWk2EcRKcE2DZNpaXE</td>\n",
       "      <td>51.577553</td>\n",
       "      <td>0.186761</td>\n",
       "      <td>I went for 2 nights amazing staff super friend...</td>\n",
       "      <td>i went for night amazing staff super friendly ...</td>\n",
       "      <td>['went', 'for', 'night', 'amazing', 'staff', '...</td>\n",
       "      <td>joy</td>\n",
       "    </tr>\n",
       "  </tbody>\n",
       "</table>\n",
       "</div>"
      ],
      "text/plain": [
       "                      place_id        lat       lon  \\\n",
       "2  ChIJiwVttYym2EcRUdFHMteOfCo  51.563524  0.070761   \n",
       "3  ChIJiwVttYym2EcRUdFHMteOfCo  51.563524  0.070761   \n",
       "4  ChIJiwVttYym2EcRUdFHMteOfCo  51.563524  0.070761   \n",
       "5  ChIJM6qXlrWk2EcRKcE2DZNpaXE  51.577553  0.186761   \n",
       "7  ChIJM6qXlrWk2EcRKcE2DZNpaXE  51.577553  0.186761   \n",
       "\n",
       "                                                Text  \\\n",
       "2  10 our of 10 lovely service, clean and homely....   \n",
       "3  Very Dirty, carpet never been cleaned, Curry s...   \n",
       "4  Even 1 star is too much for this terrible hote...   \n",
       "5  I meet with friends this nice place quite ofte...   \n",
       "7  I went for 2 nights amazing staff super friend...   \n",
       "\n",
       "                                          clean_text  \\\n",
       "2  our of lovely service clean and homely with lo...   \n",
       "3  very dirty carpet never been cleaned curry sta...   \n",
       "4  even star is too much for this terrible hotel ...   \n",
       "5  i meet with friend this nice place quite often...   \n",
       "7  i went for night amazing staff super friendly ...   \n",
       "\n",
       "                                      tokenized_text emotion  \n",
       "2  ['our', 'of', 'lovely', 'service', 'clean', 'a...     joy  \n",
       "3  ['very', 'dirty', 'carpet', 'never', 'been', '...     joy  \n",
       "4  ['even', 'star', 'is', 'too', 'much', 'for', '...     joy  \n",
       "5  ['meet', 'with', 'friend', 'this', 'nice', 'pl...     joy  \n",
       "7  ['went', 'for', 'night', 'amazing', 'staff', '...     joy  "
      ]
     },
     "execution_count": 13,
     "metadata": {},
     "output_type": "execute_result"
    }
   ],
   "source": [
    "joy_df.head()"
   ]
  },
  {
   "cell_type": "code",
   "execution_count": 41,
   "metadata": {},
   "outputs": [],
   "source": [
    "# joy_df['place_id'].value_counts()"
   ]
  },
  {
   "cell_type": "code",
   "execution_count": 39,
   "metadata": {},
   "outputs": [
    {
     "data": {
      "text/plain": [
       "['ChIJNT8NrJEPdkgRmyDOqth_efg',\n",
       " 'ChIJETtNr3uo2EcR7LhqLWmah8w',\n",
       " 'ChIJdX6YBbik2EcRmqHVqP63Nn0']"
      ]
     },
     "execution_count": 39,
     "metadata": {},
     "output_type": "execute_result"
    }
   ],
   "source": [
    "# df.groupby(['Animal']).mean()\n",
    "joyest = joy_df['place_id'].value_counts().index.tolist()[:3]\n",
    "joyest"
   ]
  },
  {
   "cell_type": "code",
   "execution_count": 38,
   "metadata": {},
   "outputs": [
    {
     "data": {
      "text/html": [
       "<div>\n",
       "<style scoped>\n",
       "    .dataframe tbody tr th:only-of-type {\n",
       "        vertical-align: middle;\n",
       "    }\n",
       "\n",
       "    .dataframe tbody tr th {\n",
       "        vertical-align: top;\n",
       "    }\n",
       "\n",
       "    .dataframe thead th {\n",
       "        text-align: right;\n",
       "    }\n",
       "</style>\n",
       "<table border=\"1\" class=\"dataframe\">\n",
       "  <thead>\n",
       "    <tr style=\"text-align: right;\">\n",
       "      <th></th>\n",
       "      <th>place_id</th>\n",
       "      <th>lat</th>\n",
       "      <th>lon</th>\n",
       "      <th>Text</th>\n",
       "      <th>clean_text</th>\n",
       "      <th>tokenized_text</th>\n",
       "      <th>emotion</th>\n",
       "    </tr>\n",
       "  </thead>\n",
       "  <tbody>\n",
       "    <tr>\n",
       "      <th>440</th>\n",
       "      <td>ChIJNT8NrJEPdkgRmyDOqth_efg</td>\n",
       "      <td>51.486328</td>\n",
       "      <td>-0.202669</td>\n",
       "      <td>I called reception and found out I got the bre...</td>\n",
       "      <td>i called reception and found out i got the bre...</td>\n",
       "      <td>['called', 'reception', 'and', 'found', 'out',...</td>\n",
       "      <td>joy</td>\n",
       "    </tr>\n",
       "    <tr>\n",
       "      <th>320</th>\n",
       "      <td>ChIJETtNr3uo2EcR7LhqLWmah8w</td>\n",
       "      <td>51.507445</td>\n",
       "      <td>0.038781</td>\n",
       "      <td>Great location )only minutes walk from the Exc...</td>\n",
       "      <td>great location only minute walk from the excel...</td>\n",
       "      <td>['great', 'location', 'only', 'minute', 'walk'...</td>\n",
       "      <td>joy</td>\n",
       "    </tr>\n",
       "    <tr>\n",
       "      <th>45</th>\n",
       "      <td>ChIJdX6YBbik2EcRmqHVqP63Nn0</td>\n",
       "      <td>51.578516</td>\n",
       "      <td>0.175971</td>\n",
       "      <td>Had a great stay! very welcoming and friendly....</td>\n",
       "      <td>had a great stay very welcoming and friendly r...</td>\n",
       "      <td>['had', 'great', 'stay', 'very', 'welcoming', ...</td>\n",
       "      <td>joy</td>\n",
       "    </tr>\n",
       "    <tr>\n",
       "      <th>501</th>\n",
       "      <td>ChIJKSDtn10FdkgRPbUAQKJlQ7U</td>\n",
       "      <td>51.495128</td>\n",
       "      <td>-0.179319</td>\n",
       "      <td>Room and hotel were clean and fit for purpose....</td>\n",
       "      <td>room and hotel were clean and fit for purpose ...</td>\n",
       "      <td>['room', 'and', 'hotel', 'were', 'clean', 'and...</td>\n",
       "      <td>joy</td>\n",
       "    </tr>\n",
       "    <tr>\n",
       "      <th>1226</th>\n",
       "      <td>ChIJW7P2oU0EdkgR9aIBvHUKfD0</td>\n",
       "      <td>51.455381</td>\n",
       "      <td>-0.144717</td>\n",
       "      <td>This hotel was amazing after what we experienc...</td>\n",
       "      <td>this hotel wa amazing after what we experience...</td>\n",
       "      <td>['this', 'hotel', 'wa', 'amazing', 'after', 'w...</td>\n",
       "      <td>joy</td>\n",
       "    </tr>\n",
       "  </tbody>\n",
       "</table>\n",
       "</div>"
      ],
      "text/plain": [
       "                         place_id        lat       lon  \\\n",
       "440   ChIJNT8NrJEPdkgRmyDOqth_efg  51.486328 -0.202669   \n",
       "320   ChIJETtNr3uo2EcR7LhqLWmah8w  51.507445  0.038781   \n",
       "45    ChIJdX6YBbik2EcRmqHVqP63Nn0  51.578516  0.175971   \n",
       "501   ChIJKSDtn10FdkgRPbUAQKJlQ7U  51.495128 -0.179319   \n",
       "1226  ChIJW7P2oU0EdkgR9aIBvHUKfD0  51.455381 -0.144717   \n",
       "\n",
       "                                                   Text  \\\n",
       "440   I called reception and found out I got the bre...   \n",
       "320   Great location )only minutes walk from the Exc...   \n",
       "45    Had a great stay! very welcoming and friendly....   \n",
       "501   Room and hotel were clean and fit for purpose....   \n",
       "1226  This hotel was amazing after what we experienc...   \n",
       "\n",
       "                                             clean_text  \\\n",
       "440   i called reception and found out i got the bre...   \n",
       "320   great location only minute walk from the excel...   \n",
       "45    had a great stay very welcoming and friendly r...   \n",
       "501   room and hotel were clean and fit for purpose ...   \n",
       "1226  this hotel wa amazing after what we experience...   \n",
       "\n",
       "                                         tokenized_text emotion  \n",
       "440   ['called', 'reception', 'and', 'found', 'out',...     joy  \n",
       "320   ['great', 'location', 'only', 'minute', 'walk'...     joy  \n",
       "45    ['had', 'great', 'stay', 'very', 'welcoming', ...     joy  \n",
       "501   ['room', 'and', 'hotel', 'were', 'clean', 'and...     joy  \n",
       "1226  ['this', 'hotel', 'wa', 'amazing', 'after', 'w...     joy  "
      ]
     },
     "execution_count": 38,
     "metadata": {},
     "output_type": "execute_result"
    }
   ],
   "source": [
    "# df.loc[(df['Salary_in_1000']>=100)]\n",
    "# joy_df[['place_id']==joyest]\n",
    "top_joy_1 = joy_df.loc[(joy_df['place_id']==joyest[0])][:1]\n",
    "top_joy_2 = joy_df.loc[(joy_df['place_id']==joyest[1])][:1]\n",
    "top_joy_3 = joy_df.loc[(joy_df['place_id']==joyest[2])][:1]\n",
    "top_joy_4 = joy_df.loc[(joy_df['place_id']==joyest[3])][:1]\n",
    "top_joy_5 = joy_df.loc[(joy_df['place_id']==joyest[4])][:1]\n",
    "top_joy = pd.concat([top_joy_1, top_joy_2, top_joy_3, top_joy_4, top_joy_5])\n",
    "top_joy.head()"
   ]
  },
  {
   "cell_type": "code",
   "execution_count": 21,
   "metadata": {},
   "outputs": [
    {
     "ename": "ValueError",
     "evalue": "Lengths must match to compare",
     "output_type": "error",
     "traceback": [
      "\u001b[1;31m---------------------------------------------------------------------------\u001b[0m",
      "\u001b[1;31mValueError\u001b[0m                                Traceback (most recent call last)",
      "\u001b[1;32m<ipython-input-21-d07c210b38ef>\u001b[0m in \u001b[0;36m<module>\u001b[1;34m\u001b[0m\n\u001b[1;32m----> 1\u001b[1;33m \u001b[0mtop_joy\u001b[0m \u001b[1;33m=\u001b[0m \u001b[0mjoy_df\u001b[0m\u001b[1;33m[\u001b[0m\u001b[1;33m[\u001b[0m\u001b[0mjoy_df\u001b[0m\u001b[1;33m[\u001b[0m\u001b[1;34m'place_id'\u001b[0m\u001b[1;33m]\u001b[0m\u001b[1;33m==\u001b[0m\u001b[0mjoyest\u001b[0m\u001b[1;33m]\u001b[0m\u001b[1;33m]\u001b[0m\u001b[1;33m\u001b[0m\u001b[1;33m\u001b[0m\u001b[0m\n\u001b[0m",
      "\u001b[1;32mc:\\users\\al\\.venvs\\lewagon\\lib\\site-packages\\pandas\\core\\ops.py\u001b[0m in \u001b[0;36mwrapper\u001b[1;34m(self, other, axis)\u001b[0m\n\u001b[0;32m   1743\u001b[0m             \u001b[1;31m# as it will broadcast\u001b[0m\u001b[1;33m\u001b[0m\u001b[1;33m\u001b[0m\u001b[1;33m\u001b[0m\u001b[0m\n\u001b[0;32m   1744\u001b[0m             \u001b[1;32mif\u001b[0m \u001b[0mother\u001b[0m\u001b[1;33m.\u001b[0m\u001b[0mndim\u001b[0m \u001b[1;33m!=\u001b[0m \u001b[1;36m0\u001b[0m \u001b[1;32mand\u001b[0m \u001b[0mlen\u001b[0m\u001b[1;33m(\u001b[0m\u001b[0mself\u001b[0m\u001b[1;33m)\u001b[0m \u001b[1;33m!=\u001b[0m \u001b[0mlen\u001b[0m\u001b[1;33m(\u001b[0m\u001b[0mother\u001b[0m\u001b[1;33m)\u001b[0m\u001b[1;33m:\u001b[0m\u001b[1;33m\u001b[0m\u001b[1;33m\u001b[0m\u001b[0m\n\u001b[1;32m-> 1745\u001b[1;33m                 \u001b[1;32mraise\u001b[0m \u001b[0mValueError\u001b[0m\u001b[1;33m(\u001b[0m\u001b[1;34m'Lengths must match to compare'\u001b[0m\u001b[1;33m)\u001b[0m\u001b[1;33m\u001b[0m\u001b[1;33m\u001b[0m\u001b[0m\n\u001b[0m\u001b[0;32m   1746\u001b[0m \u001b[1;33m\u001b[0m\u001b[0m\n\u001b[0;32m   1747\u001b[0m             \u001b[0mres_values\u001b[0m \u001b[1;33m=\u001b[0m \u001b[0mna_op\u001b[0m\u001b[1;33m(\u001b[0m\u001b[0mself\u001b[0m\u001b[1;33m.\u001b[0m\u001b[0mvalues\u001b[0m\u001b[1;33m,\u001b[0m \u001b[0mnp\u001b[0m\u001b[1;33m.\u001b[0m\u001b[0masarray\u001b[0m\u001b[1;33m(\u001b[0m\u001b[0mother\u001b[0m\u001b[1;33m)\u001b[0m\u001b[1;33m)\u001b[0m\u001b[1;33m\u001b[0m\u001b[1;33m\u001b[0m\u001b[0m\n",
      "\u001b[1;31mValueError\u001b[0m: Lengths must match to compare"
     ]
    }
   ],
   "source": [
    "top10_joy = joy_df[[joy_df['place_id']==joyest]]"
   ]
  },
  {
   "cell_type": "markdown",
   "metadata": {
    "heading_collapsed": true
   },
   "source": [
    "## Define emotion and emoji"
   ]
  },
  {
   "cell_type": "code",
   "execution_count": 11,
   "metadata": {
    "hidden": true
   },
   "outputs": [
    {
     "ename": "NameError",
     "evalue": "name 'JOY_URL' is not defined",
     "output_type": "error",
     "traceback": [
      "\u001b[1;31m---------------------------------------------------------------------------\u001b[0m",
      "\u001b[1;31mNameError\u001b[0m                                 Traceback (most recent call last)",
      "\u001b[1;32m<ipython-input-11-eca0d5f5dc31>\u001b[0m in \u001b[0;36m<module>\u001b[1;34m\u001b[0m\n\u001b[0;32m      1\u001b[0m \u001b[1;31m# define emoji\u001b[0m\u001b[1;33m\u001b[0m\u001b[1;33m\u001b[0m\u001b[1;33m\u001b[0m\u001b[0m\n\u001b[0;32m      2\u001b[0m \u001b[1;31m#jJOY_URL=\"https://res.cloudinary.com/dq7pjfkgz/image/upload/v1606418659/joy_gabpby.png\"\u001b[0m\u001b[1;33m\u001b[0m\u001b[1;33m\u001b[0m\u001b[1;33m\u001b[0m\u001b[0m\n\u001b[1;32m----> 3\u001b[1;33m \u001b[0mJOY_URL\u001b[0m\u001b[1;33m=\u001b[0m\u001b[0mJOY_URL\u001b[0m\u001b[1;33m\u001b[0m\u001b[1;33m\u001b[0m\u001b[0m\n\u001b[0m\u001b[0;32m      4\u001b[0m \u001b[0mSAD_URL\u001b[0m\u001b[1;33m=\u001b[0m\u001b[1;34m\"https://res.cloudinary.com/dq7pjfkgz/image/upload/v1606418659/sad_icpf1w.png\"\u001b[0m\u001b[1;33m\u001b[0m\u001b[1;33m\u001b[0m\u001b[0m\n\u001b[0;32m      5\u001b[0m \u001b[0mWORRY_URL\u001b[0m\u001b[1;33m=\u001b[0m\u001b[1;34m\"https://res.cloudinary.com/dq7pjfkgz/image/upload/v1606418659/worry_rwobfs.png\"\u001b[0m\u001b[1;33m\u001b[0m\u001b[1;33m\u001b[0m\u001b[0m\n",
      "\u001b[1;31mNameError\u001b[0m: name 'JOY_URL' is not defined"
     ]
    }
   ],
   "source": [
    "# define emoji\n",
    "#jJOY_URL=\"https://res.cloudinary.com/dq7pjfkgz/image/upload/v1606418659/joy_gabpby.png\"\n",
    "JOY_URL=JOY_URL\n",
    "SAD_URL=\"https://res.cloudinary.com/dq7pjfkgz/image/upload/v1606418659/sad_icpf1w.png\"\n",
    "WORRY_URL=\"https://res.cloudinary.com/dq7pjfkgz/image/upload/v1606418659/worry_rwobfs.png\"\n",
    "ANGER_URL=\"https://res.cloudinary.com/dq7pjfkgz/image/upload/v1606418659/angry_shqypp.png\"\n",
    "NEUTRAL_URL=\"https://res.cloudinary.com/dq7pjfkgz/image/upload/v1606418659/neutral_evi6qa.png\"\n",
    "joy_icon = {\"url\": 'JOY_URL', \"width\": 242, \"height\": 242, \"anchorY\": 242,}\n",
    "sad_icon = {\"url\": SAD_URL, \"width\": 242, \"height\": 242, \"anchorY\": 242,}\n",
    "worry_icon = {\"url\": WORRY_URL, \"width\": 242, \"height\": 242, \"anchorY\": 242,}\n",
    "anger_icon = {\"url\": ANGER_URL, \"width\": 242, \"height\": 242, \"anchorY\": 242,}\n",
    "neutral_icon = {\"url\": NEUTRAL_URL, \"width\": 242, \"height\": 242, \"anchorY\": 242,}"
   ]
  },
  {
   "cell_type": "code",
   "execution_count": 6,
   "metadata": {
    "hidden": true
   },
   "outputs": [
    {
     "name": "stderr",
     "output_type": "stream",
     "text": [
      "c:\\users\\al\\.venvs\\lewagon\\lib\\site-packages\\ipykernel_launcher.py:3: SettingWithCopyWarning: \n",
      "A value is trying to be set on a copy of a slice from a DataFrame.\n",
      "Try using .loc[row_indexer,col_indexer] = value instead\n",
      "\n",
      "See the caveats in the documentation: http://pandas.pydata.org/pandas-docs/stable/indexing.html#indexing-view-versus-copy\n",
      "  This is separate from the ipykernel package so we can avoid doing imports until\n",
      "c:\\users\\al\\.venvs\\lewagon\\lib\\site-packages\\ipykernel_launcher.py:5: SettingWithCopyWarning: \n",
      "A value is trying to be set on a copy of a slice from a DataFrame\n",
      "\n",
      "See the caveats in the documentation: http://pandas.pydata.org/pandas-docs/stable/indexing.html#indexing-view-versus-copy\n",
      "  \"\"\"\n",
      "c:\\users\\al\\.venvs\\lewagon\\lib\\site-packages\\IPython\\core\\interactiveshell.py:3417: SettingWithCopyWarning: \n",
      "A value is trying to be set on a copy of a slice from a DataFrame\n",
      "\n",
      "See the caveats in the documentation: http://pandas.pydata.org/pandas-docs/stable/indexing.html#indexing-view-versus-copy\n",
      "  exec(code_obj, self.user_global_ns, self.user_ns)\n",
      "c:\\users\\al\\.venvs\\lewagon\\lib\\site-packages\\ipykernel_launcher.py:8: SettingWithCopyWarning: \n",
      "A value is trying to be set on a copy of a slice from a DataFrame.\n",
      "Try using .loc[row_indexer,col_indexer] = value instead\n",
      "\n",
      "See the caveats in the documentation: http://pandas.pydata.org/pandas-docs/stable/indexing.html#indexing-view-versus-copy\n",
      "  \n",
      "c:\\users\\al\\.venvs\\lewagon\\lib\\site-packages\\ipykernel_launcher.py:10: SettingWithCopyWarning: \n",
      "A value is trying to be set on a copy of a slice from a DataFrame\n",
      "\n",
      "See the caveats in the documentation: http://pandas.pydata.org/pandas-docs/stable/indexing.html#indexing-view-versus-copy\n",
      "  # Remove the CWD from sys.path while we load stuff.\n",
      "c:\\users\\al\\.venvs\\lewagon\\lib\\site-packages\\ipykernel_launcher.py:13: SettingWithCopyWarning: \n",
      "A value is trying to be set on a copy of a slice from a DataFrame.\n",
      "Try using .loc[row_indexer,col_indexer] = value instead\n",
      "\n",
      "See the caveats in the documentation: http://pandas.pydata.org/pandas-docs/stable/indexing.html#indexing-view-versus-copy\n",
      "  del sys.path[0]\n",
      "c:\\users\\al\\.venvs\\lewagon\\lib\\site-packages\\ipykernel_launcher.py:15: SettingWithCopyWarning: \n",
      "A value is trying to be set on a copy of a slice from a DataFrame\n",
      "\n",
      "See the caveats in the documentation: http://pandas.pydata.org/pandas-docs/stable/indexing.html#indexing-view-versus-copy\n",
      "  from ipykernel import kernelapp as app\n",
      "c:\\users\\al\\.venvs\\lewagon\\lib\\site-packages\\ipykernel_launcher.py:18: SettingWithCopyWarning: \n",
      "A value is trying to be set on a copy of a slice from a DataFrame.\n",
      "Try using .loc[row_indexer,col_indexer] = value instead\n",
      "\n",
      "See the caveats in the documentation: http://pandas.pydata.org/pandas-docs/stable/indexing.html#indexing-view-versus-copy\n",
      "c:\\users\\al\\.venvs\\lewagon\\lib\\site-packages\\ipykernel_launcher.py:20: SettingWithCopyWarning: \n",
      "A value is trying to be set on a copy of a slice from a DataFrame\n",
      "\n",
      "See the caveats in the documentation: http://pandas.pydata.org/pandas-docs/stable/indexing.html#indexing-view-versus-copy\n",
      "c:\\users\\al\\.venvs\\lewagon\\lib\\site-packages\\ipykernel_launcher.py:23: SettingWithCopyWarning: \n",
      "A value is trying to be set on a copy of a slice from a DataFrame.\n",
      "Try using .loc[row_indexer,col_indexer] = value instead\n",
      "\n",
      "See the caveats in the documentation: http://pandas.pydata.org/pandas-docs/stable/indexing.html#indexing-view-versus-copy\n",
      "c:\\users\\al\\.venvs\\lewagon\\lib\\site-packages\\ipykernel_launcher.py:25: SettingWithCopyWarning: \n",
      "A value is trying to be set on a copy of a slice from a DataFrame\n",
      "\n",
      "See the caveats in the documentation: http://pandas.pydata.org/pandas-docs/stable/indexing.html#indexing-view-versus-copy\n"
     ]
    }
   ],
   "source": [
    "# split dataframe to emotions\n",
    "joy_df = data[data['emotion']=='joy'] #updatekey\n",
    "joy_df[\"emoji\"] = None\n",
    "for i in joy_df.index:\n",
    "    joy_df[\"emoji\"][i] = joy_icon\n",
    "\n",
    "sad_df = data[data['emotion']=='sad']  #updatekey\n",
    "sad_df[\"emoji\"] = None\n",
    "for i in sad_df.index:\n",
    "    sad_df[\"emoji\"][i] = sad_icon\n",
    "\n",
    "worry_df = data[data['emotion']=='worry']  #updatekey\n",
    "worry_df[\"emoji\"] = None\n",
    "for i in worry_df.index:\n",
    "    worry_df[\"emoji\"][i] = worry_icon\n",
    "\n",
    "anger_df = data[data['emotion']=='anger']  #updatekey\n",
    "anger_df[\"emoji\"] = None\n",
    "for i in anger_df.index:\n",
    "    anger_df[\"emoji\"][i] = anger_icon\n",
    "\n",
    "neutral_df = data[data['emotion']=='neutral']  #updatekey\n",
    "neutral_df[\"emoji\"] = None\n",
    "for i in neutral_df.index:\n",
    "    neutral_df[\"emoji\"][i] = neutral_icon"
   ]
  },
  {
   "cell_type": "code",
   "execution_count": 7,
   "metadata": {
    "hidden": true
   },
   "outputs": [
    {
     "data": {
      "text/plain": [
       "(749, 8)"
      ]
     },
     "execution_count": 7,
     "metadata": {},
     "output_type": "execute_result"
    }
   ],
   "source": [
    "joy_df.shape"
   ]
  },
  {
   "cell_type": "markdown",
   "metadata": {
    "heading_collapsed": true
   },
   "source": [
    "## Export emotion dataframes"
   ]
  },
  {
   "cell_type": "code",
   "execution_count": 8,
   "metadata": {
    "hidden": true
   },
   "outputs": [],
   "source": [
    "joy_df.to_csv(\"../streamlit_prep/joy_df.csv\", index=False)\n",
    "sad_df.to_csv(\"../streamlit_prep/sad_df.csv\", index=False)\n",
    "worry_df.to_csv(\"../streamlit_prep/worry_df.csv\", index=False)\n",
    "anger_df.to_csv(\"../streamlit_prep/anger_df.csv\", index=False)\n",
    "neutral_df.to_csv(\"../streamlit_prep/neutral_df.csv\", index=False)"
   ]
  },
  {
   "cell_type": "code",
   "execution_count": 9,
   "metadata": {
    "hidden": true
   },
   "outputs": [
    {
     "data": {
      "text/html": [
       "<div>\n",
       "<style scoped>\n",
       "    .dataframe tbody tr th:only-of-type {\n",
       "        vertical-align: middle;\n",
       "    }\n",
       "\n",
       "    .dataframe tbody tr th {\n",
       "        vertical-align: top;\n",
       "    }\n",
       "\n",
       "    .dataframe thead th {\n",
       "        text-align: right;\n",
       "    }\n",
       "</style>\n",
       "<table border=\"1\" class=\"dataframe\">\n",
       "  <thead>\n",
       "    <tr style=\"text-align: right;\">\n",
       "      <th></th>\n",
       "      <th>place_id</th>\n",
       "      <th>lat</th>\n",
       "      <th>lon</th>\n",
       "      <th>Text</th>\n",
       "      <th>clean_text</th>\n",
       "      <th>tokenized_text</th>\n",
       "      <th>emotion</th>\n",
       "      <th>emoji</th>\n",
       "    </tr>\n",
       "  </thead>\n",
       "  <tbody>\n",
       "    <tr>\n",
       "      <th>0</th>\n",
       "      <td>ChIJiwVttYym2EcRUdFHMteOfCo</td>\n",
       "      <td>51.563524</td>\n",
       "      <td>0.070761</td>\n",
       "      <td>10 our of 10 lovely service, clean and homely....</td>\n",
       "      <td>our of lovely service clean and homely with lo...</td>\n",
       "      <td>['our', 'of', 'lovely', 'service', 'clean', 'a...</td>\n",
       "      <td>joy</td>\n",
       "      <td>{'url': 'JOY_URL', 'width': 242, 'height': 242...</td>\n",
       "    </tr>\n",
       "    <tr>\n",
       "      <th>1</th>\n",
       "      <td>ChIJiwVttYym2EcRUdFHMteOfCo</td>\n",
       "      <td>51.563524</td>\n",
       "      <td>0.070761</td>\n",
       "      <td>Very Dirty, carpet never been cleaned, Curry s...</td>\n",
       "      <td>very dirty carpet never been cleaned curry sta...</td>\n",
       "      <td>['very', 'dirty', 'carpet', 'never', 'been', '...</td>\n",
       "      <td>joy</td>\n",
       "      <td>{'url': 'JOY_URL', 'width': 242, 'height': 242...</td>\n",
       "    </tr>\n",
       "    <tr>\n",
       "      <th>2</th>\n",
       "      <td>ChIJiwVttYym2EcRUdFHMteOfCo</td>\n",
       "      <td>51.563524</td>\n",
       "      <td>0.070761</td>\n",
       "      <td>Even 1 star is too much for this terrible hote...</td>\n",
       "      <td>even star is too much for this terrible hotel ...</td>\n",
       "      <td>['even', 'star', 'is', 'too', 'much', 'for', '...</td>\n",
       "      <td>joy</td>\n",
       "      <td>{'url': 'JOY_URL', 'width': 242, 'height': 242...</td>\n",
       "    </tr>\n",
       "    <tr>\n",
       "      <th>3</th>\n",
       "      <td>ChIJM6qXlrWk2EcRKcE2DZNpaXE</td>\n",
       "      <td>51.577553</td>\n",
       "      <td>0.186761</td>\n",
       "      <td>I meet with friends this nice place quite ofte...</td>\n",
       "      <td>i meet with friend this nice place quite often...</td>\n",
       "      <td>['meet', 'with', 'friend', 'this', 'nice', 'pl...</td>\n",
       "      <td>joy</td>\n",
       "      <td>{'url': 'JOY_URL', 'width': 242, 'height': 242...</td>\n",
       "    </tr>\n",
       "    <tr>\n",
       "      <th>4</th>\n",
       "      <td>ChIJM6qXlrWk2EcRKcE2DZNpaXE</td>\n",
       "      <td>51.577553</td>\n",
       "      <td>0.186761</td>\n",
       "      <td>I went for 2 nights amazing staff super friend...</td>\n",
       "      <td>i went for night amazing staff super friendly ...</td>\n",
       "      <td>['went', 'for', 'night', 'amazing', 'staff', '...</td>\n",
       "      <td>joy</td>\n",
       "      <td>{'url': 'JOY_URL', 'width': 242, 'height': 242...</td>\n",
       "    </tr>\n",
       "  </tbody>\n",
       "</table>\n",
       "</div>"
      ],
      "text/plain": [
       "                      place_id        lat       lon  \\\n",
       "0  ChIJiwVttYym2EcRUdFHMteOfCo  51.563524  0.070761   \n",
       "1  ChIJiwVttYym2EcRUdFHMteOfCo  51.563524  0.070761   \n",
       "2  ChIJiwVttYym2EcRUdFHMteOfCo  51.563524  0.070761   \n",
       "3  ChIJM6qXlrWk2EcRKcE2DZNpaXE  51.577553  0.186761   \n",
       "4  ChIJM6qXlrWk2EcRKcE2DZNpaXE  51.577553  0.186761   \n",
       "\n",
       "                                                Text  \\\n",
       "0  10 our of 10 lovely service, clean and homely....   \n",
       "1  Very Dirty, carpet never been cleaned, Curry s...   \n",
       "2  Even 1 star is too much for this terrible hote...   \n",
       "3  I meet with friends this nice place quite ofte...   \n",
       "4  I went for 2 nights amazing staff super friend...   \n",
       "\n",
       "                                          clean_text  \\\n",
       "0  our of lovely service clean and homely with lo...   \n",
       "1  very dirty carpet never been cleaned curry sta...   \n",
       "2  even star is too much for this terrible hotel ...   \n",
       "3  i meet with friend this nice place quite often...   \n",
       "4  i went for night amazing staff super friendly ...   \n",
       "\n",
       "                                      tokenized_text emotion  \\\n",
       "0  ['our', 'of', 'lovely', 'service', 'clean', 'a...     joy   \n",
       "1  ['very', 'dirty', 'carpet', 'never', 'been', '...     joy   \n",
       "2  ['even', 'star', 'is', 'too', 'much', 'for', '...     joy   \n",
       "3  ['meet', 'with', 'friend', 'this', 'nice', 'pl...     joy   \n",
       "4  ['went', 'for', 'night', 'amazing', 'staff', '...     joy   \n",
       "\n",
       "                                               emoji  \n",
       "0  {'url': 'JOY_URL', 'width': 242, 'height': 242...  \n",
       "1  {'url': 'JOY_URL', 'width': 242, 'height': 242...  \n",
       "2  {'url': 'JOY_URL', 'width': 242, 'height': 242...  \n",
       "3  {'url': 'JOY_URL', 'width': 242, 'height': 242...  \n",
       "4  {'url': 'JOY_URL', 'width': 242, 'height': 242...  "
      ]
     },
     "execution_count": 9,
     "metadata": {},
     "output_type": "execute_result"
    }
   ],
   "source": [
    "x = pd.read_csv(\"../streamlit_prep/joy_df.csv\")\n",
    "x.head()"
   ]
  },
  {
   "cell_type": "code",
   "execution_count": 10,
   "metadata": {
    "hidden": true
   },
   "outputs": [
    {
     "data": {
      "text/plain": [
       "\"{'url': 'JOY_URL', 'width': 242, 'height': 242, 'anchorY': 242}\""
      ]
     },
     "execution_count": 10,
     "metadata": {},
     "output_type": "execute_result"
    }
   ],
   "source": [
    "x['emoji'][0]"
   ]
  },
  {
   "cell_type": "code",
   "execution_count": null,
   "metadata": {
    "hidden": true
   },
   "outputs": [],
   "source": []
  }
 ],
 "metadata": {
  "kernelspec": {
   "display_name": "Python 3",
   "language": "python",
   "name": "python3"
  },
  "language_info": {
   "codemirror_mode": {
    "name": "ipython",
    "version": 3
   },
   "file_extension": ".py",
   "mimetype": "text/x-python",
   "name": "python",
   "nbconvert_exporter": "python",
   "pygments_lexer": "ipython3",
   "version": "3.7.7"
  },
  "toc": {
   "base_numbering": 1,
   "nav_menu": {},
   "number_sections": true,
   "sideBar": true,
   "skip_h1_title": false,
   "title_cell": "Table of Contents",
   "title_sidebar": "Contents",
   "toc_cell": false,
   "toc_position": {},
   "toc_section_display": true,
   "toc_window_display": false
  },
  "varInspector": {
   "cols": {
    "lenName": 16,
    "lenType": 16,
    "lenVar": 40
   },
   "kernels_config": {
    "python": {
     "delete_cmd_postfix": "",
     "delete_cmd_prefix": "del ",
     "library": "var_list.py",
     "varRefreshCmd": "print(var_dic_list())"
    },
    "r": {
     "delete_cmd_postfix": ") ",
     "delete_cmd_prefix": "rm(",
     "library": "var_list.r",
     "varRefreshCmd": "cat(var_dic_list()) "
    }
   },
   "types_to_exclude": [
    "module",
    "function",
    "builtin_function_or_method",
    "instance",
    "_Feature"
   ],
   "window_display": false
  }
 },
 "nbformat": 4,
 "nbformat_minor": 4
}
