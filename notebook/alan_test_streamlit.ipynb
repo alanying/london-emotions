{
 "cells": [
  {
   "cell_type": "code",
   "execution_count": 2,
   "metadata": {},
   "outputs": [],
   "source": [
    "import pandas as pd"
   ]
  },
  {
   "cell_type": "code",
   "execution_count": 17,
   "metadata": {},
   "outputs": [
    {
     "data": {
      "text/html": [
       "<div>\n",
       "<style scoped>\n",
       "    .dataframe tbody tr th:only-of-type {\n",
       "        vertical-align: middle;\n",
       "    }\n",
       "\n",
       "    .dataframe tbody tr th {\n",
       "        vertical-align: top;\n",
       "    }\n",
       "\n",
       "    .dataframe thead th {\n",
       "        text-align: right;\n",
       "    }\n",
       "</style>\n",
       "<table border=\"1\" class=\"dataframe\">\n",
       "  <thead>\n",
       "    <tr style=\"text-align: right;\">\n",
       "      <th></th>\n",
       "      <th>place_id</th>\n",
       "      <th>lat</th>\n",
       "      <th>lon</th>\n",
       "      <th>emotion</th>\n",
       "      <th>review</th>\n",
       "    </tr>\n",
       "  </thead>\n",
       "  <tbody>\n",
       "    <tr>\n",
       "      <th>0</th>\n",
       "      <td>ChIJv29u9WYbdkgRBrykLCrPnQw</td>\n",
       "      <td>51.539604</td>\n",
       "      <td>-0.102586</td>\n",
       "      <td>sad</td>\n",
       "      <td>Absolutely perfect restaurant, in fact it coul...</td>\n",
       "    </tr>\n",
       "    <tr>\n",
       "      <th>1</th>\n",
       "      <td>ChIJv29u9WYbdkgRBrykLCrPnQw</td>\n",
       "      <td>51.539604</td>\n",
       "      <td>-0.102586</td>\n",
       "      <td>joy</td>\n",
       "      <td>Finally visited after the closure of Little Ba...</td>\n",
       "    </tr>\n",
       "    <tr>\n",
       "      <th>2</th>\n",
       "      <td>ChIJv29u9WYbdkgRBrykLCrPnQw</td>\n",
       "      <td>51.539604</td>\n",
       "      <td>-0.102586</td>\n",
       "      <td>joy</td>\n",
       "      <td>Thrilled that this beautiful restaurant has op...</td>\n",
       "    </tr>\n",
       "    <tr>\n",
       "      <th>3</th>\n",
       "      <td>ChIJMzzxp6AcdkgRAbgqxgqGStg</td>\n",
       "      <td>51.531084</td>\n",
       "      <td>-0.093748</td>\n",
       "      <td>neutral</td>\n",
       "      <td>Warm atmosphere, cosy and relaxing. Great musi...</td>\n",
       "    </tr>\n",
       "    <tr>\n",
       "      <th>4</th>\n",
       "      <td>ChIJMzzxp6AcdkgRAbgqxgqGStg</td>\n",
       "      <td>51.531084</td>\n",
       "      <td>-0.093748</td>\n",
       "      <td>joy</td>\n",
       "      <td>Cracking boozer. Five stars all round. Good se...</td>\n",
       "    </tr>\n",
       "  </tbody>\n",
       "</table>\n",
       "</div>"
      ],
      "text/plain": [
       "                      place_id        lat       lon  emotion  \\\n",
       "0  ChIJv29u9WYbdkgRBrykLCrPnQw  51.539604 -0.102586      sad   \n",
       "1  ChIJv29u9WYbdkgRBrykLCrPnQw  51.539604 -0.102586      joy   \n",
       "2  ChIJv29u9WYbdkgRBrykLCrPnQw  51.539604 -0.102586      joy   \n",
       "3  ChIJMzzxp6AcdkgRAbgqxgqGStg  51.531084 -0.093748  neutral   \n",
       "4  ChIJMzzxp6AcdkgRAbgqxgqGStg  51.531084 -0.093748      joy   \n",
       "\n",
       "                                              review  \n",
       "0  Absolutely perfect restaurant, in fact it coul...  \n",
       "1  Finally visited after the closure of Little Ba...  \n",
       "2  Thrilled that this beautiful restaurant has op...  \n",
       "3  Warm atmosphere, cosy and relaxing. Great musi...  \n",
       "4  Cracking boozer. Five stars all round. Good se...  "
      ]
     },
     "execution_count": 17,
     "metadata": {},
     "output_type": "execute_result"
    }
   ],
   "source": [
    "data = pd.read_csv('../raw_data/pred_testset.csv') #updatekey\n",
    "data.rename(columns={'lng':'lon'}, inplace=True)\n",
    "data.head()"
   ]
  },
  {
   "cell_type": "code",
   "execution_count": 18,
   "metadata": {},
   "outputs": [
    {
     "data": {
      "text/plain": [
       "joy        167\n",
       "neutral     39\n",
       "anger       33\n",
       "sad         29\n",
       "worry       27\n",
       "Neutral      1\n",
       "Anger        1\n",
       "Joy          1\n",
       "Sad          1\n",
       "Name: emotion, dtype: int64"
      ]
     },
     "execution_count": 18,
     "metadata": {},
     "output_type": "execute_result"
    }
   ],
   "source": [
    "data['emotion'].value_counts()"
   ]
  },
  {
   "cell_type": "code",
   "execution_count": 4,
   "metadata": {},
   "outputs": [
    {
     "name": "stderr",
     "output_type": "stream",
     "text": [
      "c:\\users\\al\\.venvs\\lewagon\\lib\\site-packages\\ipykernel_launcher.py:2: SettingWithCopyWarning: \n",
      "A value is trying to be set on a copy of a slice from a DataFrame.\n",
      "Try using .loc[row_indexer,col_indexer] = value instead\n",
      "\n",
      "See the caveats in the documentation: http://pandas.pydata.org/pandas-docs/stable/indexing.html#indexing-view-versus-copy\n",
      "  \n"
     ]
    },
    {
     "data": {
      "text/html": [
       "<div>\n",
       "<style scoped>\n",
       "    .dataframe tbody tr th:only-of-type {\n",
       "        vertical-align: middle;\n",
       "    }\n",
       "\n",
       "    .dataframe tbody tr th {\n",
       "        vertical-align: top;\n",
       "    }\n",
       "\n",
       "    .dataframe thead th {\n",
       "        text-align: right;\n",
       "    }\n",
       "</style>\n",
       "<table border=\"1\" class=\"dataframe\">\n",
       "  <thead>\n",
       "    <tr style=\"text-align: right;\">\n",
       "      <th></th>\n",
       "      <th>place_id</th>\n",
       "      <th>lat</th>\n",
       "      <th>lon</th>\n",
       "      <th>emotion</th>\n",
       "      <th>review</th>\n",
       "      <th>emoji</th>\n",
       "    </tr>\n",
       "  </thead>\n",
       "  <tbody>\n",
       "    <tr>\n",
       "      <th>1</th>\n",
       "      <td>ChIJv29u9WYbdkgRBrykLCrPnQw</td>\n",
       "      <td>51.539604</td>\n",
       "      <td>-0.102586</td>\n",
       "      <td>joy</td>\n",
       "      <td>Finally visited after the closure of Little Ba...</td>\n",
       "      <td>None</td>\n",
       "    </tr>\n",
       "    <tr>\n",
       "      <th>2</th>\n",
       "      <td>ChIJv29u9WYbdkgRBrykLCrPnQw</td>\n",
       "      <td>51.539604</td>\n",
       "      <td>-0.102586</td>\n",
       "      <td>joy</td>\n",
       "      <td>Thrilled that this beautiful restaurant has op...</td>\n",
       "      <td>None</td>\n",
       "    </tr>\n",
       "    <tr>\n",
       "      <th>4</th>\n",
       "      <td>ChIJMzzxp6AcdkgRAbgqxgqGStg</td>\n",
       "      <td>51.531084</td>\n",
       "      <td>-0.093748</td>\n",
       "      <td>joy</td>\n",
       "      <td>Cracking boozer. Five stars all round. Good se...</td>\n",
       "      <td>None</td>\n",
       "    </tr>\n",
       "    <tr>\n",
       "      <th>5</th>\n",
       "      <td>ChIJMzzxp6AcdkgRAbgqxgqGStg</td>\n",
       "      <td>51.531084</td>\n",
       "      <td>-0.093748</td>\n",
       "      <td>joy</td>\n",
       "      <td>place is always busy and rightly so, they’ve g...</td>\n",
       "      <td>None</td>\n",
       "    </tr>\n",
       "    <tr>\n",
       "      <th>6</th>\n",
       "      <td>ChIJMzzxp6AcdkgRAbgqxgqGStg</td>\n",
       "      <td>51.531084</td>\n",
       "      <td>-0.093748</td>\n",
       "      <td>joy</td>\n",
       "      <td>A real gem of a pub, probably my favourite lon...</td>\n",
       "      <td>None</td>\n",
       "    </tr>\n",
       "  </tbody>\n",
       "</table>\n",
       "</div>"
      ],
      "text/plain": [
       "                      place_id        lat       lon emotion  \\\n",
       "1  ChIJv29u9WYbdkgRBrykLCrPnQw  51.539604 -0.102586     joy   \n",
       "2  ChIJv29u9WYbdkgRBrykLCrPnQw  51.539604 -0.102586     joy   \n",
       "4  ChIJMzzxp6AcdkgRAbgqxgqGStg  51.531084 -0.093748     joy   \n",
       "5  ChIJMzzxp6AcdkgRAbgqxgqGStg  51.531084 -0.093748     joy   \n",
       "6  ChIJMzzxp6AcdkgRAbgqxgqGStg  51.531084 -0.093748     joy   \n",
       "\n",
       "                                              review emoji  \n",
       "1  Finally visited after the closure of Little Ba...  None  \n",
       "2  Thrilled that this beautiful restaurant has op...  None  \n",
       "4  Cracking boozer. Five stars all round. Good se...  None  \n",
       "5  place is always busy and rightly so, they’ve g...  None  \n",
       "6  A real gem of a pub, probably my favourite lon...  None  "
      ]
     },
     "execution_count": 4,
     "metadata": {},
     "output_type": "execute_result"
    }
   ],
   "source": [
    "joy_df = data[data['emotion']=='joy'] #updatekey\n",
    "joy_df[\"emoji\"] = None\n",
    "joy_df.head()"
   ]
  },
  {
   "cell_type": "code",
   "execution_count": 6,
   "metadata": {},
   "outputs": [
    {
     "data": {
      "text/plain": [
       "{'url': 'https://res.cloudinary.com/dq7pjfkgz/image/upload/v1606418659/joy_gabpby.png',\n",
       " 'width': 242,\n",
       " 'height': 242,\n",
       " 'anchorY': 242}"
      ]
     },
     "execution_count": 6,
     "metadata": {},
     "output_type": "execute_result"
    }
   ],
   "source": [
    "JOY_URL=\"https://res.cloudinary.com/dq7pjfkgz/image/upload/v1606418659/joy_gabpby.png\"\n",
    "joy_icon = {\"url\": JOY_URL, \"width\": 242, \"height\": 242, \"anchorY\": 242,}\n",
    "joy_icon"
   ]
  },
  {
   "cell_type": "code",
   "execution_count": 7,
   "metadata": {},
   "outputs": [
    {
     "name": "stderr",
     "output_type": "stream",
     "text": [
      "c:\\users\\al\\.venvs\\lewagon\\lib\\site-packages\\ipykernel_launcher.py:2: SettingWithCopyWarning: \n",
      "A value is trying to be set on a copy of a slice from a DataFrame\n",
      "\n",
      "See the caveats in the documentation: http://pandas.pydata.org/pandas-docs/stable/indexing.html#indexing-view-versus-copy\n",
      "  \n",
      "c:\\users\\al\\.venvs\\lewagon\\lib\\site-packages\\IPython\\core\\interactiveshell.py:3417: SettingWithCopyWarning: \n",
      "A value is trying to be set on a copy of a slice from a DataFrame\n",
      "\n",
      "See the caveats in the documentation: http://pandas.pydata.org/pandas-docs/stable/indexing.html#indexing-view-versus-copy\n",
      "  exec(code_obj, self.user_global_ns, self.user_ns)\n"
     ]
    }
   ],
   "source": [
    "for i in joy_df.index:\n",
    "    joy_df[\"emoji\"][i] = joy_icon\n"
   ]
  },
  {
   "cell_type": "code",
   "execution_count": 8,
   "metadata": {},
   "outputs": [
    {
     "data": {
      "text/html": [
       "<div>\n",
       "<style scoped>\n",
       "    .dataframe tbody tr th:only-of-type {\n",
       "        vertical-align: middle;\n",
       "    }\n",
       "\n",
       "    .dataframe tbody tr th {\n",
       "        vertical-align: top;\n",
       "    }\n",
       "\n",
       "    .dataframe thead th {\n",
       "        text-align: right;\n",
       "    }\n",
       "</style>\n",
       "<table border=\"1\" class=\"dataframe\">\n",
       "  <thead>\n",
       "    <tr style=\"text-align: right;\">\n",
       "      <th></th>\n",
       "      <th>place_id</th>\n",
       "      <th>lat</th>\n",
       "      <th>lon</th>\n",
       "      <th>emotion</th>\n",
       "      <th>review</th>\n",
       "      <th>emoji</th>\n",
       "    </tr>\n",
       "  </thead>\n",
       "  <tbody>\n",
       "    <tr>\n",
       "      <th>1</th>\n",
       "      <td>ChIJv29u9WYbdkgRBrykLCrPnQw</td>\n",
       "      <td>51.539604</td>\n",
       "      <td>-0.102586</td>\n",
       "      <td>joy</td>\n",
       "      <td>Finally visited after the closure of Little Ba...</td>\n",
       "      <td>{'url': 'https://res.cloudinary.com/dq7pjfkgz/...</td>\n",
       "    </tr>\n",
       "    <tr>\n",
       "      <th>2</th>\n",
       "      <td>ChIJv29u9WYbdkgRBrykLCrPnQw</td>\n",
       "      <td>51.539604</td>\n",
       "      <td>-0.102586</td>\n",
       "      <td>joy</td>\n",
       "      <td>Thrilled that this beautiful restaurant has op...</td>\n",
       "      <td>{'url': 'https://res.cloudinary.com/dq7pjfkgz/...</td>\n",
       "    </tr>\n",
       "    <tr>\n",
       "      <th>4</th>\n",
       "      <td>ChIJMzzxp6AcdkgRAbgqxgqGStg</td>\n",
       "      <td>51.531084</td>\n",
       "      <td>-0.093748</td>\n",
       "      <td>joy</td>\n",
       "      <td>Cracking boozer. Five stars all round. Good se...</td>\n",
       "      <td>{'url': 'https://res.cloudinary.com/dq7pjfkgz/...</td>\n",
       "    </tr>\n",
       "    <tr>\n",
       "      <th>5</th>\n",
       "      <td>ChIJMzzxp6AcdkgRAbgqxgqGStg</td>\n",
       "      <td>51.531084</td>\n",
       "      <td>-0.093748</td>\n",
       "      <td>joy</td>\n",
       "      <td>place is always busy and rightly so, they’ve g...</td>\n",
       "      <td>{'url': 'https://res.cloudinary.com/dq7pjfkgz/...</td>\n",
       "    </tr>\n",
       "    <tr>\n",
       "      <th>6</th>\n",
       "      <td>ChIJMzzxp6AcdkgRAbgqxgqGStg</td>\n",
       "      <td>51.531084</td>\n",
       "      <td>-0.093748</td>\n",
       "      <td>joy</td>\n",
       "      <td>A real gem of a pub, probably my favourite lon...</td>\n",
       "      <td>{'url': 'https://res.cloudinary.com/dq7pjfkgz/...</td>\n",
       "    </tr>\n",
       "  </tbody>\n",
       "</table>\n",
       "</div>"
      ],
      "text/plain": [
       "                      place_id        lat       lon emotion  \\\n",
       "1  ChIJv29u9WYbdkgRBrykLCrPnQw  51.539604 -0.102586     joy   \n",
       "2  ChIJv29u9WYbdkgRBrykLCrPnQw  51.539604 -0.102586     joy   \n",
       "4  ChIJMzzxp6AcdkgRAbgqxgqGStg  51.531084 -0.093748     joy   \n",
       "5  ChIJMzzxp6AcdkgRAbgqxgqGStg  51.531084 -0.093748     joy   \n",
       "6  ChIJMzzxp6AcdkgRAbgqxgqGStg  51.531084 -0.093748     joy   \n",
       "\n",
       "                                              review  \\\n",
       "1  Finally visited after the closure of Little Ba...   \n",
       "2  Thrilled that this beautiful restaurant has op...   \n",
       "4  Cracking boozer. Five stars all round. Good se...   \n",
       "5  place is always busy and rightly so, they’ve g...   \n",
       "6  A real gem of a pub, probably my favourite lon...   \n",
       "\n",
       "                                               emoji  \n",
       "1  {'url': 'https://res.cloudinary.com/dq7pjfkgz/...  \n",
       "2  {'url': 'https://res.cloudinary.com/dq7pjfkgz/...  \n",
       "4  {'url': 'https://res.cloudinary.com/dq7pjfkgz/...  \n",
       "5  {'url': 'https://res.cloudinary.com/dq7pjfkgz/...  \n",
       "6  {'url': 'https://res.cloudinary.com/dq7pjfkgz/...  "
      ]
     },
     "execution_count": 8,
     "metadata": {},
     "output_type": "execute_result"
    }
   ],
   "source": [
    "joy_df.head()"
   ]
  },
  {
   "cell_type": "markdown",
   "metadata": {},
   "source": [
    "## angry"
   ]
  },
  {
   "cell_type": "code",
   "execution_count": 25,
   "metadata": {},
   "outputs": [],
   "source": [
    "anger_df = data[data['emotion']=='anger'] #updatekey\n",
    "ANGER_URL=\"https://res.cloudinary.com/dq7pjfkgz/image/upload/v1606418659/angry_shqypp.png\"\n",
    "anger_icon = {\"url\": ANGER_URL, \"width\": 242, \"height\": 242, \"anchorY\": 242,}"
   ]
  },
  {
   "cell_type": "code",
   "execution_count": 26,
   "metadata": {},
   "outputs": [
    {
     "name": "stderr",
     "output_type": "stream",
     "text": [
      "c:\\users\\al\\.venvs\\lewagon\\lib\\site-packages\\ipykernel_launcher.py:2: SettingWithCopyWarning: \n",
      "A value is trying to be set on a copy of a slice from a DataFrame.\n",
      "Try using .loc[row_indexer,col_indexer] = value instead\n",
      "\n",
      "See the caveats in the documentation: http://pandas.pydata.org/pandas-docs/stable/indexing.html#indexing-view-versus-copy\n",
      "  \n",
      "c:\\users\\al\\.venvs\\lewagon\\lib\\site-packages\\ipykernel_launcher.py:4: SettingWithCopyWarning: \n",
      "A value is trying to be set on a copy of a slice from a DataFrame\n",
      "\n",
      "See the caveats in the documentation: http://pandas.pydata.org/pandas-docs/stable/indexing.html#indexing-view-versus-copy\n",
      "  after removing the cwd from sys.path.\n"
     ]
    }
   ],
   "source": [
    "anger_df = data[data['emotion']=='anger']  #updatekey\n",
    "anger_df[\"emoji\"] = None\n",
    "for i in anger_df.index:\n",
    "    anger_df[\"emoji\"][i] = anger_icon"
   ]
  },
  {
   "cell_type": "code",
   "execution_count": 27,
   "metadata": {},
   "outputs": [
    {
     "data": {
      "text/html": [
       "<div>\n",
       "<style scoped>\n",
       "    .dataframe tbody tr th:only-of-type {\n",
       "        vertical-align: middle;\n",
       "    }\n",
       "\n",
       "    .dataframe tbody tr th {\n",
       "        vertical-align: top;\n",
       "    }\n",
       "\n",
       "    .dataframe thead th {\n",
       "        text-align: right;\n",
       "    }\n",
       "</style>\n",
       "<table border=\"1\" class=\"dataframe\">\n",
       "  <thead>\n",
       "    <tr style=\"text-align: right;\">\n",
       "      <th></th>\n",
       "      <th>place_id</th>\n",
       "      <th>lat</th>\n",
       "      <th>lon</th>\n",
       "      <th>emotion</th>\n",
       "      <th>review</th>\n",
       "      <th>emoji</th>\n",
       "    </tr>\n",
       "  </thead>\n",
       "  <tbody>\n",
       "    <tr>\n",
       "      <th>45</th>\n",
       "      <td>ChIJ1TVZs1UFdkgRIeWxo-jEYaE</td>\n",
       "      <td>51.511374</td>\n",
       "      <td>-0.185459</td>\n",
       "      <td>anger</td>\n",
       "      <td>Great for a cheaper place to stay in London. O...</td>\n",
       "      <td>{'url': 'https://res.cloudinary.com/dq7pjfkgz/...</td>\n",
       "    </tr>\n",
       "    <tr>\n",
       "      <th>54</th>\n",
       "      <td>ChIJKSDtn10FdkgRPbUAQKJlQ7U</td>\n",
       "      <td>51.495128</td>\n",
       "      <td>-0.179319</td>\n",
       "      <td>anger</td>\n",
       "      <td>Room and hotel were clean and fit for purpose....</td>\n",
       "      <td>{'url': 'https://res.cloudinary.com/dq7pjfkgz/...</td>\n",
       "    </tr>\n",
       "    <tr>\n",
       "      <th>62</th>\n",
       "      <td>ChIJO6vgkWcFdkgRjLCrLkS_3ak</td>\n",
       "      <td>51.492508</td>\n",
       "      <td>-0.178036</td>\n",
       "      <td>anger</td>\n",
       "      <td>This is one of my all-time favorite hotels eve...</td>\n",
       "      <td>{'url': 'https://res.cloudinary.com/dq7pjfkgz/...</td>\n",
       "    </tr>\n",
       "    <tr>\n",
       "      <th>63</th>\n",
       "      <td>ChIJYQCtg00FdkgREw34v1ji0m4</td>\n",
       "      <td>51.512297</td>\n",
       "      <td>-0.175197</td>\n",
       "      <td>anger</td>\n",
       "      <td>Overall a very pleasant stay.\\n\\nFriendly and ...</td>\n",
       "      <td>{'url': 'https://res.cloudinary.com/dq7pjfkgz/...</td>\n",
       "    </tr>\n",
       "    <tr>\n",
       "      <th>69</th>\n",
       "      <td>ChIJkUNmiEEFdkgRP2VcGWbshrM</td>\n",
       "      <td>51.496061</td>\n",
       "      <td>-0.170411</td>\n",
       "      <td>anger</td>\n",
       "      <td>Great lunch meeting. Corvid security and preca...</td>\n",
       "      <td>{'url': 'https://res.cloudinary.com/dq7pjfkgz/...</td>\n",
       "    </tr>\n",
       "  </tbody>\n",
       "</table>\n",
       "</div>"
      ],
      "text/plain": [
       "                       place_id        lat       lon emotion  \\\n",
       "45  ChIJ1TVZs1UFdkgRIeWxo-jEYaE  51.511374 -0.185459   anger   \n",
       "54  ChIJKSDtn10FdkgRPbUAQKJlQ7U  51.495128 -0.179319   anger   \n",
       "62  ChIJO6vgkWcFdkgRjLCrLkS_3ak  51.492508 -0.178036   anger   \n",
       "63  ChIJYQCtg00FdkgREw34v1ji0m4  51.512297 -0.175197   anger   \n",
       "69  ChIJkUNmiEEFdkgRP2VcGWbshrM  51.496061 -0.170411   anger   \n",
       "\n",
       "                                               review  \\\n",
       "45  Great for a cheaper place to stay in London. O...   \n",
       "54  Room and hotel were clean and fit for purpose....   \n",
       "62  This is one of my all-time favorite hotels eve...   \n",
       "63  Overall a very pleasant stay.\\n\\nFriendly and ...   \n",
       "69  Great lunch meeting. Corvid security and preca...   \n",
       "\n",
       "                                                emoji  \n",
       "45  {'url': 'https://res.cloudinary.com/dq7pjfkgz/...  \n",
       "54  {'url': 'https://res.cloudinary.com/dq7pjfkgz/...  \n",
       "62  {'url': 'https://res.cloudinary.com/dq7pjfkgz/...  \n",
       "63  {'url': 'https://res.cloudinary.com/dq7pjfkgz/...  \n",
       "69  {'url': 'https://res.cloudinary.com/dq7pjfkgz/...  "
      ]
     },
     "execution_count": 27,
     "metadata": {},
     "output_type": "execute_result"
    }
   ],
   "source": [
    "anger_df.head()"
   ]
  },
  {
   "cell_type": "code",
   "execution_count": 46,
   "metadata": {},
   "outputs": [
    {
     "data": {
      "text/plain": [
       "3"
      ]
     },
     "execution_count": 46,
     "metadata": {},
     "output_type": "execute_result"
    }
   ],
   "source": [
    "anger_df['place_id'].value_counts().max()"
   ]
  },
  {
   "cell_type": "code",
   "execution_count": 49,
   "metadata": {},
   "outputs": [],
   "source": [
    "mask = anger_df['place_id'].value_counts() == anger_df['place_id'].value_counts().max()"
   ]
  },
  {
   "cell_type": "code",
   "execution_count": 58,
   "metadata": {},
   "outputs": [
    {
     "name": "stderr",
     "output_type": "stream",
     "text": [
      "c:\\users\\al\\.venvs\\lewagon\\lib\\site-packages\\ipykernel_launcher.py:2: UserWarning: Boolean Series key will be reindexed to match DataFrame index.\n",
      "  \n"
     ]
    },
    {
     "ename": "IndexingError",
     "evalue": "Unalignable boolean Series provided as indexer (index of the boolean Series and of the indexed object do not match",
     "output_type": "error",
     "traceback": [
      "\u001b[1;31m---------------------------------------------------------------------\u001b[0m",
      "\u001b[1;31mIndexingError\u001b[0m                       Traceback (most recent call last)",
      "\u001b[1;32m<ipython-input-58-7ed2124a251b>\u001b[0m in \u001b[0;36m<module>\u001b[1;34m\u001b[0m\n\u001b[0;32m      1\u001b[0m \u001b[1;31m# print (array1[mask])\u001b[0m\u001b[1;33m\u001b[0m\u001b[1;33m\u001b[0m\u001b[1;33m\u001b[0m\u001b[0m\n\u001b[1;32m----> 2\u001b[1;33m \u001b[0manger_df\u001b[0m\u001b[1;33m[\u001b[0m\u001b[0mmask\u001b[0m\u001b[1;33m]\u001b[0m\u001b[1;33m\u001b[0m\u001b[1;33m\u001b[0m\u001b[0m\n\u001b[0m",
      "\u001b[1;32mc:\\users\\al\\.venvs\\lewagon\\lib\\site-packages\\pandas\\core\\frame.py\u001b[0m in \u001b[0;36m__getitem__\u001b[1;34m(self, key)\u001b[0m\n\u001b[0;32m   2916\u001b[0m         \u001b[1;31m# Do we have a (boolean) 1d indexer?\u001b[0m\u001b[1;33m\u001b[0m\u001b[1;33m\u001b[0m\u001b[1;33m\u001b[0m\u001b[0m\n\u001b[0;32m   2917\u001b[0m         \u001b[1;32mif\u001b[0m \u001b[0mcom\u001b[0m\u001b[1;33m.\u001b[0m\u001b[0mis_bool_indexer\u001b[0m\u001b[1;33m(\u001b[0m\u001b[0mkey\u001b[0m\u001b[1;33m)\u001b[0m\u001b[1;33m:\u001b[0m\u001b[1;33m\u001b[0m\u001b[1;33m\u001b[0m\u001b[0m\n\u001b[1;32m-> 2918\u001b[1;33m             \u001b[1;32mreturn\u001b[0m \u001b[0mself\u001b[0m\u001b[1;33m.\u001b[0m\u001b[0m_getitem_bool_array\u001b[0m\u001b[1;33m(\u001b[0m\u001b[0mkey\u001b[0m\u001b[1;33m)\u001b[0m\u001b[1;33m\u001b[0m\u001b[1;33m\u001b[0m\u001b[0m\n\u001b[0m\u001b[0;32m   2919\u001b[0m \u001b[1;33m\u001b[0m\u001b[0m\n\u001b[0;32m   2920\u001b[0m         \u001b[1;31m# We are left with two options: a single key, and a collection of keys,\u001b[0m\u001b[1;33m\u001b[0m\u001b[1;33m\u001b[0m\u001b[1;33m\u001b[0m\u001b[0m\n",
      "\u001b[1;32mc:\\users\\al\\.venvs\\lewagon\\lib\\site-packages\\pandas\\core\\frame.py\u001b[0m in \u001b[0;36m_getitem_bool_array\u001b[1;34m(self, key)\u001b[0m\n\u001b[0;32m   2965\u001b[0m         \u001b[1;31m# check_bool_indexer will throw exception if Series key cannot\u001b[0m\u001b[1;33m\u001b[0m\u001b[1;33m\u001b[0m\u001b[1;33m\u001b[0m\u001b[0m\n\u001b[0;32m   2966\u001b[0m         \u001b[1;31m# be reindexed to match DataFrame rows\u001b[0m\u001b[1;33m\u001b[0m\u001b[1;33m\u001b[0m\u001b[1;33m\u001b[0m\u001b[0m\n\u001b[1;32m-> 2967\u001b[1;33m         \u001b[0mkey\u001b[0m \u001b[1;33m=\u001b[0m \u001b[0mcheck_bool_indexer\u001b[0m\u001b[1;33m(\u001b[0m\u001b[0mself\u001b[0m\u001b[1;33m.\u001b[0m\u001b[0mindex\u001b[0m\u001b[1;33m,\u001b[0m \u001b[0mkey\u001b[0m\u001b[1;33m)\u001b[0m\u001b[1;33m\u001b[0m\u001b[1;33m\u001b[0m\u001b[0m\n\u001b[0m\u001b[0;32m   2968\u001b[0m         \u001b[0mindexer\u001b[0m \u001b[1;33m=\u001b[0m \u001b[0mkey\u001b[0m\u001b[1;33m.\u001b[0m\u001b[0mnonzero\u001b[0m\u001b[1;33m(\u001b[0m\u001b[1;33m)\u001b[0m\u001b[1;33m[\u001b[0m\u001b[1;36m0\u001b[0m\u001b[1;33m]\u001b[0m\u001b[1;33m\u001b[0m\u001b[1;33m\u001b[0m\u001b[0m\n\u001b[0;32m   2969\u001b[0m         \u001b[1;32mreturn\u001b[0m \u001b[0mself\u001b[0m\u001b[1;33m.\u001b[0m\u001b[0m_take\u001b[0m\u001b[1;33m(\u001b[0m\u001b[0mindexer\u001b[0m\u001b[1;33m,\u001b[0m \u001b[0maxis\u001b[0m\u001b[1;33m=\u001b[0m\u001b[1;36m0\u001b[0m\u001b[1;33m)\u001b[0m\u001b[1;33m\u001b[0m\u001b[1;33m\u001b[0m\u001b[0m\n",
      "\u001b[1;32mc:\\users\\al\\.venvs\\lewagon\\lib\\site-packages\\pandas\\core\\indexing.py\u001b[0m in \u001b[0;36mcheck_bool_indexer\u001b[1;34m(ax, key)\u001b[0m\n\u001b[0;32m   2484\u001b[0m         \u001b[0mmask\u001b[0m \u001b[1;33m=\u001b[0m \u001b[0misna\u001b[0m\u001b[1;33m(\u001b[0m\u001b[0mresult\u001b[0m\u001b[1;33m.\u001b[0m\u001b[0m_values\u001b[0m\u001b[1;33m)\u001b[0m\u001b[1;33m\u001b[0m\u001b[1;33m\u001b[0m\u001b[0m\n\u001b[0;32m   2485\u001b[0m         \u001b[1;32mif\u001b[0m \u001b[0mmask\u001b[0m\u001b[1;33m.\u001b[0m\u001b[0many\u001b[0m\u001b[1;33m(\u001b[0m\u001b[1;33m)\u001b[0m\u001b[1;33m:\u001b[0m\u001b[1;33m\u001b[0m\u001b[1;33m\u001b[0m\u001b[0m\n\u001b[1;32m-> 2486\u001b[1;33m             raise IndexingError('Unalignable boolean Series provided as '\n\u001b[0m\u001b[0;32m   2487\u001b[0m                                 \u001b[1;34m'indexer (index of the boolean Series and of '\u001b[0m\u001b[1;33m\u001b[0m\u001b[1;33m\u001b[0m\u001b[0m\n\u001b[0;32m   2488\u001b[0m                                 'the indexed object do not match')\n",
      "\u001b[1;31mIndexingError\u001b[0m: Unalignable boolean Series provided as indexer (index of the boolean Series and of the indexed object do not match"
     ]
    }
   ],
   "source": [
    "# print (array1[mask])\n",
    "anger_df[mask]"
   ]
  },
  {
   "cell_type": "markdown",
   "metadata": {
    "heading_collapsed": true
   },
   "source": [
    "# neutral"
   ]
  },
  {
   "cell_type": "code",
   "execution_count": 30,
   "metadata": {
    "hidden": true
   },
   "outputs": [
    {
     "name": "stderr",
     "output_type": "stream",
     "text": [
      "c:\\users\\al\\.venvs\\lewagon\\lib\\site-packages\\ipykernel_launcher.py:4: SettingWithCopyWarning: \n",
      "A value is trying to be set on a copy of a slice from a DataFrame.\n",
      "Try using .loc[row_indexer,col_indexer] = value instead\n",
      "\n",
      "See the caveats in the documentation: http://pandas.pydata.org/pandas-docs/stable/indexing.html#indexing-view-versus-copy\n",
      "  after removing the cwd from sys.path.\n",
      "c:\\users\\al\\.venvs\\lewagon\\lib\\site-packages\\ipykernel_launcher.py:6: SettingWithCopyWarning: \n",
      "A value is trying to be set on a copy of a slice from a DataFrame\n",
      "\n",
      "See the caveats in the documentation: http://pandas.pydata.org/pandas-docs/stable/indexing.html#indexing-view-versus-copy\n",
      "  \n"
     ]
    }
   ],
   "source": [
    "NEUTRAL_URL=\"https://res.cloudinary.com/dq7pjfkgz/image/upload/v1606418659/neutral_evi6qa.png\"\n",
    "neutral_icon = {\"url\": NEUTRAL_URL, \"width\": 242, \"height\": 242, \"anchorY\": 242,}\n",
    "neutral_df = data[data['emotion']=='neutral']  #updatekey\n",
    "\n",
    "neutral_df[\"emoji\"] = None\n",
    "for i in neutral_df.index:\n",
    "    neutral_df[\"emoji\"][i] = neutral_icon"
   ]
  },
  {
   "cell_type": "code",
   "execution_count": 38,
   "metadata": {
    "hidden": true
   },
   "outputs": [
    {
     "name": "stderr",
     "output_type": "stream",
     "text": [
      "c:\\users\\al\\.venvs\\lewagon\\lib\\site-packages\\pandas\\core\\frame.py:4034: SettingWithCopyWarning: \n",
      "A value is trying to be set on a copy of a slice from a DataFrame\n",
      "\n",
      "See the caveats in the documentation: http://pandas.pydata.org/pandas-docs/stable/indexing.html#indexing-view-versus-copy\n",
      "  downcast=downcast, **kwargs)\n"
     ]
    }
   ],
   "source": [
    "# df.column.fillna('0',inplace = True)\n",
    "neutral_df.fillna('nan', inplace=True)"
   ]
  },
  {
   "cell_type": "code",
   "execution_count": 40,
   "metadata": {
    "hidden": true
   },
   "outputs": [
    {
     "data": {
      "text/plain": [
       "place_id    0\n",
       "lat         0\n",
       "lon         0\n",
       "emotion     0\n",
       "review      0\n",
       "emoji       0\n",
       "dtype: int64"
      ]
     },
     "execution_count": 40,
     "metadata": {},
     "output_type": "execute_result"
    }
   ],
   "source": [
    "neutral_df.isnull().sum()"
   ]
  },
  {
   "cell_type": "code",
   "execution_count": 34,
   "metadata": {
    "hidden": true
   },
   "outputs": [
    {
     "data": {
      "text/plain": [
       "{'url': 'https://res.cloudinary.com/dq7pjfkgz/image/upload/v1606418659/neutral_evi6qa.png', 'width': 242, 'height': 242, 'anchorY': 242}    39\n",
       "Name: emoji, dtype: int64"
      ]
     },
     "execution_count": 34,
     "metadata": {},
     "output_type": "execute_result"
    }
   ],
   "source": [
    "neutral_df['emoji'].value_counts()"
   ]
  },
  {
   "cell_type": "code",
   "execution_count": null,
   "metadata": {
    "hidden": true
   },
   "outputs": [],
   "source": []
  },
  {
   "cell_type": "code",
   "execution_count": null,
   "metadata": {
    "hidden": true
   },
   "outputs": [],
   "source": []
  }
 ],
 "metadata": {
  "kernelspec": {
   "display_name": "Python 3",
   "language": "python",
   "name": "python3"
  },
  "language_info": {
   "codemirror_mode": {
    "name": "ipython",
    "version": 3
   },
   "file_extension": ".py",
   "mimetype": "text/x-python",
   "name": "python",
   "nbconvert_exporter": "python",
   "pygments_lexer": "ipython3",
   "version": "3.7.7"
  },
  "toc": {
   "base_numbering": 1,
   "nav_menu": {},
   "number_sections": true,
   "sideBar": true,
   "skip_h1_title": false,
   "title_cell": "Table of Contents",
   "title_sidebar": "Contents",
   "toc_cell": false,
   "toc_position": {},
   "toc_section_display": true,
   "toc_window_display": false
  },
  "varInspector": {
   "cols": {
    "lenName": 16,
    "lenType": 16,
    "lenVar": 40
   },
   "kernels_config": {
    "python": {
     "delete_cmd_postfix": "",
     "delete_cmd_prefix": "del ",
     "library": "var_list.py",
     "varRefreshCmd": "print(var_dic_list())"
    },
    "r": {
     "delete_cmd_postfix": ") ",
     "delete_cmd_prefix": "rm(",
     "library": "var_list.r",
     "varRefreshCmd": "cat(var_dic_list()) "
    }
   },
   "types_to_exclude": [
    "module",
    "function",
    "builtin_function_or_method",
    "instance",
    "_Feature"
   ],
   "window_display": false
  }
 },
 "nbformat": 4,
 "nbformat_minor": 4
}
